{
 "cells": [
  {
   "cell_type": "markdown",
   "metadata": {},
   "source": [
    "<h2>Life Expectancy and GDP Correlation Analysis</h2>\n",
    "<hr>\n",
    "This project has a goal of analizing any possible correlations within the data. Steps such as <br>\n",
    "data identification and preparation, followed by data analysis and visualization will be taken <br>\n",
    "to discover connections within the data.\n",
    "\n",
    "<b>Data Sources</b>\n",
    "- GDP Source: [World Bank](https://data.worldbank.org/indicator/NY.GDP.MKTP.CD) national accounts data, and OECD National Accounts data files.\n",
    "\n",
    "- Life expectancy Data Source: [World Health Organization](http://apps.who.int/gho/data/node.main.688)\n",
    "\n",
    "Project is provided by Codecademy"
   ]
  },
  {
   "cell_type": "markdown",
   "metadata": {},
   "source": [
    "<h2>Importing Libraries</h2>\n",
    "<hr>\n",
    "Here are the necessary libraries imported to analyze the data:\n",
    "<ul>\n",
    "<li>Pandas: Data Manipulation, used for data preparation and cleaning</li>\n",
    "<li>Matplotlib: Data Visualization, used to analyze the data by visualizing it</li>\n",
    "<li>Seaborn: Data Visualization, used to analyze the data by visualizing it</li>\n",
    "</ul>"
   ]
  },
  {
   "cell_type": "code",
   "execution_count": 19,
   "metadata": {},
   "outputs": [],
   "source": [
    "from matplotlib import pyplot as plt\n",
    "import pandas as pd\n",
    "import seaborn as sns\n",
    "%matplotlib inline"
   ]
  },
  {
   "cell_type": "markdown",
   "metadata": {},
   "source": [
    "<h2>Loading the Data</h2>\n",
    "<hr>\n",
    "First, call <code>read_csv</code> to store in <code>data</code>. It will store the analyzed data."
   ]
  },
  {
   "cell_type": "code",
   "execution_count": 20,
   "metadata": {
    "scrolled": true
   },
   "outputs": [
    {
     "data": {
      "text/html": [
       "<div>\n",
       "<style scoped>\n",
       "    .dataframe tbody tr th:only-of-type {\n",
       "        vertical-align: middle;\n",
       "    }\n",
       "\n",
       "    .dataframe tbody tr th {\n",
       "        vertical-align: top;\n",
       "    }\n",
       "\n",
       "    .dataframe thead th {\n",
       "        text-align: right;\n",
       "    }\n",
       "</style>\n",
       "<table border=\"1\" class=\"dataframe\">\n",
       "  <thead>\n",
       "    <tr style=\"text-align: right;\">\n",
       "      <th></th>\n",
       "      <th>Country</th>\n",
       "      <th>Year</th>\n",
       "      <th>Life expectancy at birth (years)</th>\n",
       "      <th>GDP</th>\n",
       "    </tr>\n",
       "  </thead>\n",
       "  <tbody>\n",
       "    <tr>\n",
       "      <th>0</th>\n",
       "      <td>Chile</td>\n",
       "      <td>2000</td>\n",
       "      <td>77.3</td>\n",
       "      <td>7.786093e+10</td>\n",
       "    </tr>\n",
       "    <tr>\n",
       "      <th>1</th>\n",
       "      <td>Chile</td>\n",
       "      <td>2001</td>\n",
       "      <td>77.3</td>\n",
       "      <td>7.097992e+10</td>\n",
       "    </tr>\n",
       "    <tr>\n",
       "      <th>2</th>\n",
       "      <td>Chile</td>\n",
       "      <td>2002</td>\n",
       "      <td>77.8</td>\n",
       "      <td>6.973681e+10</td>\n",
       "    </tr>\n",
       "    <tr>\n",
       "      <th>3</th>\n",
       "      <td>Chile</td>\n",
       "      <td>2003</td>\n",
       "      <td>77.9</td>\n",
       "      <td>7.564346e+10</td>\n",
       "    </tr>\n",
       "    <tr>\n",
       "      <th>4</th>\n",
       "      <td>Chile</td>\n",
       "      <td>2004</td>\n",
       "      <td>78.0</td>\n",
       "      <td>9.921039e+10</td>\n",
       "    </tr>\n",
       "    <tr>\n",
       "      <th>5</th>\n",
       "      <td>Chile</td>\n",
       "      <td>2005</td>\n",
       "      <td>78.4</td>\n",
       "      <td>1.229650e+11</td>\n",
       "    </tr>\n",
       "    <tr>\n",
       "      <th>6</th>\n",
       "      <td>Chile</td>\n",
       "      <td>2006</td>\n",
       "      <td>78.9</td>\n",
       "      <td>1.547880e+11</td>\n",
       "    </tr>\n",
       "    <tr>\n",
       "      <th>7</th>\n",
       "      <td>Chile</td>\n",
       "      <td>2007</td>\n",
       "      <td>78.9</td>\n",
       "      <td>1.736060e+11</td>\n",
       "    </tr>\n",
       "    <tr>\n",
       "      <th>8</th>\n",
       "      <td>Chile</td>\n",
       "      <td>2008</td>\n",
       "      <td>79.6</td>\n",
       "      <td>1.796380e+11</td>\n",
       "    </tr>\n",
       "    <tr>\n",
       "      <th>9</th>\n",
       "      <td>Chile</td>\n",
       "      <td>2009</td>\n",
       "      <td>79.3</td>\n",
       "      <td>1.723890e+11</td>\n",
       "    </tr>\n",
       "  </tbody>\n",
       "</table>\n",
       "</div>"
      ],
      "text/plain": [
       "  Country  Year  Life expectancy at birth (years)           GDP\n",
       "0   Chile  2000                              77.3  7.786093e+10\n",
       "1   Chile  2001                              77.3  7.097992e+10\n",
       "2   Chile  2002                              77.8  6.973681e+10\n",
       "3   Chile  2003                              77.9  7.564346e+10\n",
       "4   Chile  2004                              78.0  9.921039e+10\n",
       "5   Chile  2005                              78.4  1.229650e+11\n",
       "6   Chile  2006                              78.9  1.547880e+11\n",
       "7   Chile  2007                              78.9  1.736060e+11\n",
       "8   Chile  2008                              79.6  1.796380e+11\n",
       "9   Chile  2009                              79.3  1.723890e+11"
      ]
     },
     "execution_count": 20,
     "metadata": {},
     "output_type": "execute_result"
    }
   ],
   "source": [
    "#Saving csv in a variable\n",
    "data = pd.read_csv('all_data.csv')\n",
    "#Look at the top 10 data for example\n",
    "data = pd.DataFrame(data)\n",
    "data.head(10)"
   ]
  },
  {
   "cell_type": "markdown",
   "metadata": {},
   "source": [
    "Check if there's missing data"
   ]
  },
  {
   "cell_type": "code",
   "execution_count": 36,
   "metadata": {},
   "outputs": [
    {
     "data": {
      "text/plain": [
       "Country     0\n",
       "Year        0\n",
       "YLifeExp    0\n",
       "GDP         0\n",
       "dtype: int64"
      ]
     },
     "execution_count": 36,
     "metadata": {},
     "output_type": "execute_result"
    }
   ],
   "source": [
    "data.isnull().sum()"
   ]
  },
  {
   "cell_type": "markdown",
   "metadata": {},
   "source": [
    "Next, call <code>data.info</code> to see the data's shape, column, and rows"
   ]
  },
  {
   "cell_type": "code",
   "execution_count": 21,
   "metadata": {},
   "outputs": [
    {
     "data": {
      "text/plain": [
       "<bound method DataFrame.info of      Country  Year  Life expectancy at birth (years)           GDP\n",
       "0      Chile  2000                              77.3  7.786093e+10\n",
       "1      Chile  2001                              77.3  7.097992e+10\n",
       "2      Chile  2002                              77.8  6.973681e+10\n",
       "3      Chile  2003                              77.9  7.564346e+10\n",
       "4      Chile  2004                              78.0  9.921039e+10\n",
       "..       ...   ...                               ...           ...\n",
       "91  Zimbabwe  2011                              54.9  1.209845e+10\n",
       "92  Zimbabwe  2012                              56.6  1.424249e+10\n",
       "93  Zimbabwe  2013                              58.0  1.545177e+10\n",
       "94  Zimbabwe  2014                              59.2  1.589105e+10\n",
       "95  Zimbabwe  2015                              60.7  1.630467e+10\n",
       "\n",
       "[96 rows x 4 columns]>"
      ]
     },
     "execution_count": 21,
     "metadata": {},
     "output_type": "execute_result"
    }
   ],
   "source": [
    "#See data columns, index, length\n",
    "data.info"
   ]
  },
  {
   "cell_type": "markdown",
   "metadata": {},
   "source": [
    "Then call <code>data.Country.unique()</code> to see the unique values in the Country column"
   ]
  },
  {
   "cell_type": "code",
   "execution_count": 22,
   "metadata": {},
   "outputs": [
    {
     "data": {
      "text/plain": [
       "array(['Chile', 'China', 'Germany', 'Mexico', 'United States of America',\n",
       "       'Zimbabwe'], dtype=object)"
      ]
     },
     "execution_count": 22,
     "metadata": {},
     "output_type": "execute_result"
    }
   ],
   "source": [
    "#See unique entries in the Country column\n",
    "data.Country.unique()"
   ]
  },
  {
   "cell_type": "markdown",
   "metadata": {},
   "source": [
    "Call <code>data.Year.unique()</code> to see the unique values in the Year Column"
   ]
  },
  {
   "cell_type": "code",
   "execution_count": 23,
   "metadata": {},
   "outputs": [
    {
     "data": {
      "text/plain": [
       "array([2000, 2001, 2002, 2003, 2004, 2005, 2006, 2007, 2008, 2009, 2010,\n",
       "       2011, 2012, 2013, 2014, 2015], dtype=int64)"
      ]
     },
     "execution_count": 23,
     "metadata": {},
     "output_type": "execute_result"
    }
   ],
   "source": [
    "#See unique entries in the Year Column\n",
    "data.Year.unique()"
   ]
  },
  {
   "cell_type": "markdown",
   "metadata": {},
   "source": [
    "The life expectancy column is deemed to long, so it's renamed to a more convenient one: YLifeExp"
   ]
  },
  {
   "cell_type": "code",
   "execution_count": 24,
   "metadata": {
    "scrolled": true
   },
   "outputs": [
    {
     "data": {
      "text/html": [
       "<div>\n",
       "<style scoped>\n",
       "    .dataframe tbody tr th:only-of-type {\n",
       "        vertical-align: middle;\n",
       "    }\n",
       "\n",
       "    .dataframe tbody tr th {\n",
       "        vertical-align: top;\n",
       "    }\n",
       "\n",
       "    .dataframe thead th {\n",
       "        text-align: right;\n",
       "    }\n",
       "</style>\n",
       "<table border=\"1\" class=\"dataframe\">\n",
       "  <thead>\n",
       "    <tr style=\"text-align: right;\">\n",
       "      <th></th>\n",
       "      <th>Country</th>\n",
       "      <th>Year</th>\n",
       "      <th>YLifeExp</th>\n",
       "      <th>GDP</th>\n",
       "    </tr>\n",
       "  </thead>\n",
       "  <tbody>\n",
       "    <tr>\n",
       "      <th>0</th>\n",
       "      <td>Chile</td>\n",
       "      <td>2000</td>\n",
       "      <td>77.3</td>\n",
       "      <td>7.786093e+10</td>\n",
       "    </tr>\n",
       "    <tr>\n",
       "      <th>1</th>\n",
       "      <td>Chile</td>\n",
       "      <td>2001</td>\n",
       "      <td>77.3</td>\n",
       "      <td>7.097992e+10</td>\n",
       "    </tr>\n",
       "    <tr>\n",
       "      <th>2</th>\n",
       "      <td>Chile</td>\n",
       "      <td>2002</td>\n",
       "      <td>77.8</td>\n",
       "      <td>6.973681e+10</td>\n",
       "    </tr>\n",
       "    <tr>\n",
       "      <th>3</th>\n",
       "      <td>Chile</td>\n",
       "      <td>2003</td>\n",
       "      <td>77.9</td>\n",
       "      <td>7.564346e+10</td>\n",
       "    </tr>\n",
       "    <tr>\n",
       "      <th>4</th>\n",
       "      <td>Chile</td>\n",
       "      <td>2004</td>\n",
       "      <td>78.0</td>\n",
       "      <td>9.921039e+10</td>\n",
       "    </tr>\n",
       "    <tr>\n",
       "      <th>5</th>\n",
       "      <td>Chile</td>\n",
       "      <td>2005</td>\n",
       "      <td>78.4</td>\n",
       "      <td>1.229650e+11</td>\n",
       "    </tr>\n",
       "    <tr>\n",
       "      <th>6</th>\n",
       "      <td>Chile</td>\n",
       "      <td>2006</td>\n",
       "      <td>78.9</td>\n",
       "      <td>1.547880e+11</td>\n",
       "    </tr>\n",
       "    <tr>\n",
       "      <th>7</th>\n",
       "      <td>Chile</td>\n",
       "      <td>2007</td>\n",
       "      <td>78.9</td>\n",
       "      <td>1.736060e+11</td>\n",
       "    </tr>\n",
       "    <tr>\n",
       "      <th>8</th>\n",
       "      <td>Chile</td>\n",
       "      <td>2008</td>\n",
       "      <td>79.6</td>\n",
       "      <td>1.796380e+11</td>\n",
       "    </tr>\n",
       "    <tr>\n",
       "      <th>9</th>\n",
       "      <td>Chile</td>\n",
       "      <td>2009</td>\n",
       "      <td>79.3</td>\n",
       "      <td>1.723890e+11</td>\n",
       "    </tr>\n",
       "  </tbody>\n",
       "</table>\n",
       "</div>"
      ],
      "text/plain": [
       "  Country  Year  YLifeExp           GDP\n",
       "0   Chile  2000      77.3  7.786093e+10\n",
       "1   Chile  2001      77.3  7.097992e+10\n",
       "2   Chile  2002      77.8  6.973681e+10\n",
       "3   Chile  2003      77.9  7.564346e+10\n",
       "4   Chile  2004      78.0  9.921039e+10\n",
       "5   Chile  2005      78.4  1.229650e+11\n",
       "6   Chile  2006      78.9  1.547880e+11\n",
       "7   Chile  2007      78.9  1.736060e+11\n",
       "8   Chile  2008      79.6  1.796380e+11\n",
       "9   Chile  2009      79.3  1.723890e+11"
      ]
     },
     "execution_count": 24,
     "metadata": {},
     "output_type": "execute_result"
    }
   ],
   "source": [
    "data = data.rename({'Life expectancy at birth (years)':'YLifeExp'}, axis='columns')\n",
    "data.head(10)"
   ]
  },
  {
   "cell_type": "markdown",
   "metadata": {},
   "source": [
    "Here is the average of each country's life expectancy and GDP, showing how different each country is."
   ]
  },
  {
   "cell_type": "code",
   "execution_count": 25,
   "metadata": {
    "scrolled": true
   },
   "outputs": [
    {
     "data": {
      "text/html": [
       "<div>\n",
       "<style scoped>\n",
       "    .dataframe tbody tr th:only-of-type {\n",
       "        vertical-align: middle;\n",
       "    }\n",
       "\n",
       "    .dataframe tbody tr th {\n",
       "        vertical-align: top;\n",
       "    }\n",
       "\n",
       "    .dataframe thead th {\n",
       "        text-align: right;\n",
       "    }\n",
       "</style>\n",
       "<table border=\"1\" class=\"dataframe\">\n",
       "  <thead>\n",
       "    <tr style=\"text-align: right;\">\n",
       "      <th></th>\n",
       "      <th>Country</th>\n",
       "      <th>YLifeExp</th>\n",
       "      <th>GDP</th>\n",
       "    </tr>\n",
       "  </thead>\n",
       "  <tbody>\n",
       "    <tr>\n",
       "      <th>0</th>\n",
       "      <td>Chile</td>\n",
       "      <td>78.94375</td>\n",
       "      <td>1.697888e+11</td>\n",
       "    </tr>\n",
       "    <tr>\n",
       "      <th>1</th>\n",
       "      <td>China</td>\n",
       "      <td>74.26250</td>\n",
       "      <td>4.957714e+12</td>\n",
       "    </tr>\n",
       "    <tr>\n",
       "      <th>2</th>\n",
       "      <td>Germany</td>\n",
       "      <td>79.65625</td>\n",
       "      <td>3.094776e+12</td>\n",
       "    </tr>\n",
       "    <tr>\n",
       "      <th>3</th>\n",
       "      <td>Mexico</td>\n",
       "      <td>75.71875</td>\n",
       "      <td>9.766506e+11</td>\n",
       "    </tr>\n",
       "    <tr>\n",
       "      <th>4</th>\n",
       "      <td>United States of America</td>\n",
       "      <td>78.06250</td>\n",
       "      <td>1.407500e+13</td>\n",
       "    </tr>\n",
       "    <tr>\n",
       "      <th>5</th>\n",
       "      <td>Zimbabwe</td>\n",
       "      <td>50.09375</td>\n",
       "      <td>9.062580e+09</td>\n",
       "    </tr>\n",
       "  </tbody>\n",
       "</table>\n",
       "</div>"
      ],
      "text/plain": [
       "                    Country  YLifeExp           GDP\n",
       "0                     Chile  78.94375  1.697888e+11\n",
       "1                     China  74.26250  4.957714e+12\n",
       "2                   Germany  79.65625  3.094776e+12\n",
       "3                    Mexico  75.71875  9.766506e+11\n",
       "4  United States of America  78.06250  1.407500e+13\n",
       "5                  Zimbabwe  50.09375  9.062580e+09"
      ]
     },
     "execution_count": 25,
     "metadata": {},
     "output_type": "execute_result"
    }
   ],
   "source": [
    "#Processing the data average\n",
    "data_mean = data.drop(\"Year\", axis=1).groupby(\"Country\").mean().reset_index()\n",
    "data_mean"
   ]
  },
  {
   "cell_type": "markdown",
   "metadata": {},
   "source": [
    "Using <code>data_mean.sort_values</code> can sort the data from the highest to lowest to help the visualization process"
   ]
  },
  {
   "cell_type": "code",
   "execution_count": 26,
   "metadata": {},
   "outputs": [
    {
     "data": {
      "text/html": [
       "<div>\n",
       "<style scoped>\n",
       "    .dataframe tbody tr th:only-of-type {\n",
       "        vertical-align: middle;\n",
       "    }\n",
       "\n",
       "    .dataframe tbody tr th {\n",
       "        vertical-align: top;\n",
       "    }\n",
       "\n",
       "    .dataframe thead th {\n",
       "        text-align: right;\n",
       "    }\n",
       "</style>\n",
       "<table border=\"1\" class=\"dataframe\">\n",
       "  <thead>\n",
       "    <tr style=\"text-align: right;\">\n",
       "      <th></th>\n",
       "      <th>Country</th>\n",
       "      <th>YLifeExp</th>\n",
       "      <th>GDP</th>\n",
       "    </tr>\n",
       "  </thead>\n",
       "  <tbody>\n",
       "    <tr>\n",
       "      <th>2</th>\n",
       "      <td>Germany</td>\n",
       "      <td>79.65625</td>\n",
       "      <td>3.094776e+12</td>\n",
       "    </tr>\n",
       "    <tr>\n",
       "      <th>0</th>\n",
       "      <td>Chile</td>\n",
       "      <td>78.94375</td>\n",
       "      <td>1.697888e+11</td>\n",
       "    </tr>\n",
       "    <tr>\n",
       "      <th>4</th>\n",
       "      <td>United States of America</td>\n",
       "      <td>78.06250</td>\n",
       "      <td>1.407500e+13</td>\n",
       "    </tr>\n",
       "    <tr>\n",
       "      <th>3</th>\n",
       "      <td>Mexico</td>\n",
       "      <td>75.71875</td>\n",
       "      <td>9.766506e+11</td>\n",
       "    </tr>\n",
       "    <tr>\n",
       "      <th>1</th>\n",
       "      <td>China</td>\n",
       "      <td>74.26250</td>\n",
       "      <td>4.957714e+12</td>\n",
       "    </tr>\n",
       "    <tr>\n",
       "      <th>5</th>\n",
       "      <td>Zimbabwe</td>\n",
       "      <td>50.09375</td>\n",
       "      <td>9.062580e+09</td>\n",
       "    </tr>\n",
       "  </tbody>\n",
       "</table>\n",
       "</div>"
      ],
      "text/plain": [
       "                    Country  YLifeExp           GDP\n",
       "2                   Germany  79.65625  3.094776e+12\n",
       "0                     Chile  78.94375  1.697888e+11\n",
       "4  United States of America  78.06250  1.407500e+13\n",
       "3                    Mexico  75.71875  9.766506e+11\n",
       "1                     China  74.26250  4.957714e+12\n",
       "5                  Zimbabwe  50.09375  9.062580e+09"
      ]
     },
     "execution_count": 26,
     "metadata": {},
     "output_type": "execute_result"
    }
   ],
   "source": [
    "#Sorting the life expectancy and GDP from highest to lowest\n",
    "YLifeExp_sorted = data_mean.sort_values(['YLifeExp'], ascending=False)\n",
    "GDP_sorted = data_mean.sort_values(['GDP'], ascending=False)\n",
    "YLifeExp_sorted"
   ]
  },
  {
   "cell_type": "code",
   "execution_count": 27,
   "metadata": {},
   "outputs": [
    {
     "data": {
      "text/html": [
       "<div>\n",
       "<style scoped>\n",
       "    .dataframe tbody tr th:only-of-type {\n",
       "        vertical-align: middle;\n",
       "    }\n",
       "\n",
       "    .dataframe tbody tr th {\n",
       "        vertical-align: top;\n",
       "    }\n",
       "\n",
       "    .dataframe thead th {\n",
       "        text-align: right;\n",
       "    }\n",
       "</style>\n",
       "<table border=\"1\" class=\"dataframe\">\n",
       "  <thead>\n",
       "    <tr style=\"text-align: right;\">\n",
       "      <th></th>\n",
       "      <th>Country</th>\n",
       "      <th>YLifeExp</th>\n",
       "      <th>GDP</th>\n",
       "    </tr>\n",
       "  </thead>\n",
       "  <tbody>\n",
       "    <tr>\n",
       "      <th>4</th>\n",
       "      <td>United States of America</td>\n",
       "      <td>78.06250</td>\n",
       "      <td>1.407500e+13</td>\n",
       "    </tr>\n",
       "    <tr>\n",
       "      <th>1</th>\n",
       "      <td>China</td>\n",
       "      <td>74.26250</td>\n",
       "      <td>4.957714e+12</td>\n",
       "    </tr>\n",
       "    <tr>\n",
       "      <th>2</th>\n",
       "      <td>Germany</td>\n",
       "      <td>79.65625</td>\n",
       "      <td>3.094776e+12</td>\n",
       "    </tr>\n",
       "    <tr>\n",
       "      <th>3</th>\n",
       "      <td>Mexico</td>\n",
       "      <td>75.71875</td>\n",
       "      <td>9.766506e+11</td>\n",
       "    </tr>\n",
       "    <tr>\n",
       "      <th>0</th>\n",
       "      <td>Chile</td>\n",
       "      <td>78.94375</td>\n",
       "      <td>1.697888e+11</td>\n",
       "    </tr>\n",
       "    <tr>\n",
       "      <th>5</th>\n",
       "      <td>Zimbabwe</td>\n",
       "      <td>50.09375</td>\n",
       "      <td>9.062580e+09</td>\n",
       "    </tr>\n",
       "  </tbody>\n",
       "</table>\n",
       "</div>"
      ],
      "text/plain": [
       "                    Country  YLifeExp           GDP\n",
       "4  United States of America  78.06250  1.407500e+13\n",
       "1                     China  74.26250  4.957714e+12\n",
       "2                   Germany  79.65625  3.094776e+12\n",
       "3                    Mexico  75.71875  9.766506e+11\n",
       "0                     Chile  78.94375  1.697888e+11\n",
       "5                  Zimbabwe  50.09375  9.062580e+09"
      ]
     },
     "execution_count": 27,
     "metadata": {},
     "output_type": "execute_result"
    }
   ],
   "source": [
    "GDP_sorted"
   ]
  },
  {
   "cell_type": "markdown",
   "metadata": {},
   "source": [
    "Next, let's analyze the correlation in the data.\n",
    "By pivoting the data using <code>pd.pivot_table</code>, another view of the data could be seen.\n",
    "For example, this data below shows that there's changes in each country's life expectancy over the years and how different one country is from another."
   ]
  },
  {
   "cell_type": "code",
   "execution_count": 37,
   "metadata": {
    "scrolled": true
   },
   "outputs": [
    {
     "data": {
      "text/html": [
       "<div>\n",
       "<style scoped>\n",
       "    .dataframe tbody tr th:only-of-type {\n",
       "        vertical-align: middle;\n",
       "    }\n",
       "\n",
       "    .dataframe tbody tr th {\n",
       "        vertical-align: top;\n",
       "    }\n",
       "\n",
       "    .dataframe thead tr th {\n",
       "        text-align: left;\n",
       "    }\n",
       "\n",
       "    .dataframe thead tr:last-of-type th {\n",
       "        text-align: right;\n",
       "    }\n",
       "</style>\n",
       "<table border=\"1\" class=\"dataframe\">\n",
       "  <thead>\n",
       "    <tr>\n",
       "      <th></th>\n",
       "      <th colspan=\"16\" halign=\"left\">YLifeExp</th>\n",
       "    </tr>\n",
       "    <tr>\n",
       "      <th>Year</th>\n",
       "      <th>2000</th>\n",
       "      <th>2001</th>\n",
       "      <th>2002</th>\n",
       "      <th>2003</th>\n",
       "      <th>2004</th>\n",
       "      <th>2005</th>\n",
       "      <th>2006</th>\n",
       "      <th>2007</th>\n",
       "      <th>2008</th>\n",
       "      <th>2009</th>\n",
       "      <th>2010</th>\n",
       "      <th>2011</th>\n",
       "      <th>2012</th>\n",
       "      <th>2013</th>\n",
       "      <th>2014</th>\n",
       "      <th>2015</th>\n",
       "    </tr>\n",
       "    <tr>\n",
       "      <th>Country</th>\n",
       "      <th></th>\n",
       "      <th></th>\n",
       "      <th></th>\n",
       "      <th></th>\n",
       "      <th></th>\n",
       "      <th></th>\n",
       "      <th></th>\n",
       "      <th></th>\n",
       "      <th></th>\n",
       "      <th></th>\n",
       "      <th></th>\n",
       "      <th></th>\n",
       "      <th></th>\n",
       "      <th></th>\n",
       "      <th></th>\n",
       "      <th></th>\n",
       "    </tr>\n",
       "  </thead>\n",
       "  <tbody>\n",
       "    <tr>\n",
       "      <th>Chile</th>\n",
       "      <td>77.3</td>\n",
       "      <td>77.3</td>\n",
       "      <td>77.8</td>\n",
       "      <td>77.9</td>\n",
       "      <td>78.0</td>\n",
       "      <td>78.4</td>\n",
       "      <td>78.9</td>\n",
       "      <td>78.9</td>\n",
       "      <td>79.6</td>\n",
       "      <td>79.3</td>\n",
       "      <td>79.1</td>\n",
       "      <td>79.8</td>\n",
       "      <td>79.9</td>\n",
       "      <td>80.1</td>\n",
       "      <td>80.3</td>\n",
       "      <td>80.5</td>\n",
       "    </tr>\n",
       "    <tr>\n",
       "      <th>China</th>\n",
       "      <td>71.7</td>\n",
       "      <td>72.2</td>\n",
       "      <td>72.7</td>\n",
       "      <td>73.1</td>\n",
       "      <td>73.5</td>\n",
       "      <td>73.9</td>\n",
       "      <td>74.2</td>\n",
       "      <td>74.4</td>\n",
       "      <td>74.5</td>\n",
       "      <td>74.9</td>\n",
       "      <td>75.0</td>\n",
       "      <td>75.2</td>\n",
       "      <td>75.4</td>\n",
       "      <td>75.6</td>\n",
       "      <td>75.8</td>\n",
       "      <td>76.1</td>\n",
       "    </tr>\n",
       "    <tr>\n",
       "      <th>Germany</th>\n",
       "      <td>78.0</td>\n",
       "      <td>78.3</td>\n",
       "      <td>78.4</td>\n",
       "      <td>78.5</td>\n",
       "      <td>79.1</td>\n",
       "      <td>79.2</td>\n",
       "      <td>79.6</td>\n",
       "      <td>79.8</td>\n",
       "      <td>79.9</td>\n",
       "      <td>80.0</td>\n",
       "      <td>80.1</td>\n",
       "      <td>80.5</td>\n",
       "      <td>80.6</td>\n",
       "      <td>80.6</td>\n",
       "      <td>80.9</td>\n",
       "      <td>81.0</td>\n",
       "    </tr>\n",
       "    <tr>\n",
       "      <th>Mexico</th>\n",
       "      <td>74.8</td>\n",
       "      <td>75.0</td>\n",
       "      <td>75.0</td>\n",
       "      <td>75.0</td>\n",
       "      <td>75.4</td>\n",
       "      <td>75.3</td>\n",
       "      <td>75.8</td>\n",
       "      <td>76.0</td>\n",
       "      <td>75.6</td>\n",
       "      <td>75.7</td>\n",
       "      <td>75.6</td>\n",
       "      <td>76.1</td>\n",
       "      <td>76.3</td>\n",
       "      <td>76.6</td>\n",
       "      <td>76.6</td>\n",
       "      <td>76.7</td>\n",
       "    </tr>\n",
       "    <tr>\n",
       "      <th>United States of America</th>\n",
       "      <td>76.8</td>\n",
       "      <td>76.9</td>\n",
       "      <td>77.0</td>\n",
       "      <td>77.2</td>\n",
       "      <td>77.5</td>\n",
       "      <td>77.5</td>\n",
       "      <td>77.8</td>\n",
       "      <td>78.1</td>\n",
       "      <td>78.2</td>\n",
       "      <td>78.5</td>\n",
       "      <td>78.7</td>\n",
       "      <td>78.7</td>\n",
       "      <td>78.8</td>\n",
       "      <td>78.9</td>\n",
       "      <td>79.1</td>\n",
       "      <td>79.3</td>\n",
       "    </tr>\n",
       "    <tr>\n",
       "      <th>Zimbabwe</th>\n",
       "      <td>46.0</td>\n",
       "      <td>45.3</td>\n",
       "      <td>44.8</td>\n",
       "      <td>44.5</td>\n",
       "      <td>44.3</td>\n",
       "      <td>44.6</td>\n",
       "      <td>45.4</td>\n",
       "      <td>46.6</td>\n",
       "      <td>48.2</td>\n",
       "      <td>50.0</td>\n",
       "      <td>52.4</td>\n",
       "      <td>54.9</td>\n",
       "      <td>56.6</td>\n",
       "      <td>58.0</td>\n",
       "      <td>59.2</td>\n",
       "      <td>60.7</td>\n",
       "    </tr>\n",
       "  </tbody>\n",
       "</table>\n",
       "</div>"
      ],
      "text/plain": [
       "                         YLifeExp                                            \\\n",
       "Year                         2000  2001  2002  2003  2004  2005  2006  2007   \n",
       "Country                                                                       \n",
       "Chile                        77.3  77.3  77.8  77.9  78.0  78.4  78.9  78.9   \n",
       "China                        71.7  72.2  72.7  73.1  73.5  73.9  74.2  74.4   \n",
       "Germany                      78.0  78.3  78.4  78.5  79.1  79.2  79.6  79.8   \n",
       "Mexico                       74.8  75.0  75.0  75.0  75.4  75.3  75.8  76.0   \n",
       "United States of America     76.8  76.9  77.0  77.2  77.5  77.5  77.8  78.1   \n",
       "Zimbabwe                     46.0  45.3  44.8  44.5  44.3  44.6  45.4  46.6   \n",
       "\n",
       "                                                                          \n",
       "Year                      2008  2009  2010  2011  2012  2013  2014  2015  \n",
       "Country                                                                   \n",
       "Chile                     79.6  79.3  79.1  79.8  79.9  80.1  80.3  80.5  \n",
       "China                     74.5  74.9  75.0  75.2  75.4  75.6  75.8  76.1  \n",
       "Germany                   79.9  80.0  80.1  80.5  80.6  80.6  80.9  81.0  \n",
       "Mexico                    75.6  75.7  75.6  76.1  76.3  76.6  76.6  76.7  \n",
       "United States of America  78.2  78.5  78.7  78.7  78.8  78.9  79.1  79.3  \n",
       "Zimbabwe                  48.2  50.0  52.4  54.9  56.6  58.0  59.2  60.7  "
      ]
     },
     "execution_count": 37,
     "metadata": {},
     "output_type": "execute_result"
    }
   ],
   "source": [
    "LifeExp_byYear = pd.pivot(data, index=['Country'], columns=['Year'], values=['YLifeExp'])\n",
    "LifeExp_byYear"
   ]
  },
  {
   "cell_type": "markdown",
   "metadata": {},
   "source": [
    "This data below shows there's changes in each country's GDP over the years and how different one country is\n",
    "from another."
   ]
  },
  {
   "cell_type": "code",
   "execution_count": 38,
   "metadata": {},
   "outputs": [
    {
     "data": {
      "text/html": [
       "<div>\n",
       "<style scoped>\n",
       "    .dataframe tbody tr th:only-of-type {\n",
       "        vertical-align: middle;\n",
       "    }\n",
       "\n",
       "    .dataframe tbody tr th {\n",
       "        vertical-align: top;\n",
       "    }\n",
       "\n",
       "    .dataframe thead tr th {\n",
       "        text-align: left;\n",
       "    }\n",
       "\n",
       "    .dataframe thead tr:last-of-type th {\n",
       "        text-align: right;\n",
       "    }\n",
       "</style>\n",
       "<table border=\"1\" class=\"dataframe\">\n",
       "  <thead>\n",
       "    <tr>\n",
       "      <th></th>\n",
       "      <th colspan=\"16\" halign=\"left\">GDP</th>\n",
       "    </tr>\n",
       "    <tr>\n",
       "      <th>Year</th>\n",
       "      <th>2000</th>\n",
       "      <th>2001</th>\n",
       "      <th>2002</th>\n",
       "      <th>2003</th>\n",
       "      <th>2004</th>\n",
       "      <th>2005</th>\n",
       "      <th>2006</th>\n",
       "      <th>2007</th>\n",
       "      <th>2008</th>\n",
       "      <th>2009</th>\n",
       "      <th>2010</th>\n",
       "      <th>2011</th>\n",
       "      <th>2012</th>\n",
       "      <th>2013</th>\n",
       "      <th>2014</th>\n",
       "      <th>2015</th>\n",
       "    </tr>\n",
       "    <tr>\n",
       "      <th>Country</th>\n",
       "      <th></th>\n",
       "      <th></th>\n",
       "      <th></th>\n",
       "      <th></th>\n",
       "      <th></th>\n",
       "      <th></th>\n",
       "      <th></th>\n",
       "      <th></th>\n",
       "      <th></th>\n",
       "      <th></th>\n",
       "      <th></th>\n",
       "      <th></th>\n",
       "      <th></th>\n",
       "      <th></th>\n",
       "      <th></th>\n",
       "      <th></th>\n",
       "    </tr>\n",
       "  </thead>\n",
       "  <tbody>\n",
       "    <tr>\n",
       "      <th>Chile</th>\n",
       "      <td>7.786093e+10</td>\n",
       "      <td>7.097992e+10</td>\n",
       "      <td>6.973681e+10</td>\n",
       "      <td>7.564346e+10</td>\n",
       "      <td>9.921039e+10</td>\n",
       "      <td>1.229650e+11</td>\n",
       "      <td>1.547880e+11</td>\n",
       "      <td>1.736060e+11</td>\n",
       "      <td>1.796380e+11</td>\n",
       "      <td>1.723890e+11</td>\n",
       "      <td>2.185380e+11</td>\n",
       "      <td>2.522520e+11</td>\n",
       "      <td>2.671220e+11</td>\n",
       "      <td>2.783840e+11</td>\n",
       "      <td>2.609900e+11</td>\n",
       "      <td>2.425180e+11</td>\n",
       "    </tr>\n",
       "    <tr>\n",
       "      <th>China</th>\n",
       "      <td>1.211350e+12</td>\n",
       "      <td>1.339400e+12</td>\n",
       "      <td>1.470550e+12</td>\n",
       "      <td>1.660290e+12</td>\n",
       "      <td>1.955350e+12</td>\n",
       "      <td>2.285970e+12</td>\n",
       "      <td>2.752130e+12</td>\n",
       "      <td>3.552180e+12</td>\n",
       "      <td>4.598210e+12</td>\n",
       "      <td>5.109950e+12</td>\n",
       "      <td>6.100620e+12</td>\n",
       "      <td>7.572550e+12</td>\n",
       "      <td>8.560550e+12</td>\n",
       "      <td>9.607220e+12</td>\n",
       "      <td>1.048240e+13</td>\n",
       "      <td>1.106470e+13</td>\n",
       "    </tr>\n",
       "    <tr>\n",
       "      <th>Germany</th>\n",
       "      <td>1.949950e+12</td>\n",
       "      <td>1.950650e+12</td>\n",
       "      <td>2.079140e+12</td>\n",
       "      <td>2.505730e+12</td>\n",
       "      <td>2.819250e+12</td>\n",
       "      <td>2.861410e+12</td>\n",
       "      <td>3.002450e+12</td>\n",
       "      <td>3.439950e+12</td>\n",
       "      <td>3.752370e+12</td>\n",
       "      <td>3.418010e+12</td>\n",
       "      <td>3.417090e+12</td>\n",
       "      <td>3.757700e+12</td>\n",
       "      <td>3.543980e+12</td>\n",
       "      <td>3.752510e+12</td>\n",
       "      <td>3.890610e+12</td>\n",
       "      <td>3.375610e+12</td>\n",
       "    </tr>\n",
       "    <tr>\n",
       "      <th>Mexico</th>\n",
       "      <td>6.836480e+11</td>\n",
       "      <td>7.247040e+11</td>\n",
       "      <td>7.415600e+11</td>\n",
       "      <td>7.132840e+11</td>\n",
       "      <td>7.702680e+11</td>\n",
       "      <td>8.663460e+11</td>\n",
       "      <td>9.652810e+11</td>\n",
       "      <td>1.043470e+12</td>\n",
       "      <td>1.101280e+12</td>\n",
       "      <td>8.949490e+11</td>\n",
       "      <td>1.051130e+12</td>\n",
       "      <td>1.171190e+12</td>\n",
       "      <td>1.186600e+12</td>\n",
       "      <td>1.261980e+12</td>\n",
       "      <td>1.298460e+12</td>\n",
       "      <td>1.152260e+12</td>\n",
       "    </tr>\n",
       "    <tr>\n",
       "      <th>United States of America</th>\n",
       "      <td>1.030000e+13</td>\n",
       "      <td>1.060000e+13</td>\n",
       "      <td>1.100000e+13</td>\n",
       "      <td>1.150000e+13</td>\n",
       "      <td>1.230000e+13</td>\n",
       "      <td>1.310000e+13</td>\n",
       "      <td>1.390000e+13</td>\n",
       "      <td>1.450000e+13</td>\n",
       "      <td>1.470000e+13</td>\n",
       "      <td>1.440000e+13</td>\n",
       "      <td>1.500000e+13</td>\n",
       "      <td>1.550000e+13</td>\n",
       "      <td>1.620000e+13</td>\n",
       "      <td>1.670000e+13</td>\n",
       "      <td>1.740000e+13</td>\n",
       "      <td>1.810000e+13</td>\n",
       "    </tr>\n",
       "    <tr>\n",
       "      <th>Zimbabwe</th>\n",
       "      <td>6.689958e+09</td>\n",
       "      <td>6.777385e+09</td>\n",
       "      <td>6.342116e+09</td>\n",
       "      <td>5.727592e+09</td>\n",
       "      <td>5.805598e+09</td>\n",
       "      <td>5.755215e+09</td>\n",
       "      <td>5.443896e+09</td>\n",
       "      <td>5.291950e+09</td>\n",
       "      <td>4.415703e+09</td>\n",
       "      <td>8.621574e+09</td>\n",
       "      <td>1.014186e+10</td>\n",
       "      <td>1.209845e+10</td>\n",
       "      <td>1.424249e+10</td>\n",
       "      <td>1.545177e+10</td>\n",
       "      <td>1.589105e+10</td>\n",
       "      <td>1.630467e+10</td>\n",
       "    </tr>\n",
       "  </tbody>\n",
       "</table>\n",
       "</div>"
      ],
      "text/plain": [
       "                                   GDP                              \\\n",
       "Year                              2000          2001          2002   \n",
       "Country                                                              \n",
       "Chile                     7.786093e+10  7.097992e+10  6.973681e+10   \n",
       "China                     1.211350e+12  1.339400e+12  1.470550e+12   \n",
       "Germany                   1.949950e+12  1.950650e+12  2.079140e+12   \n",
       "Mexico                    6.836480e+11  7.247040e+11  7.415600e+11   \n",
       "United States of America  1.030000e+13  1.060000e+13  1.100000e+13   \n",
       "Zimbabwe                  6.689958e+09  6.777385e+09  6.342116e+09   \n",
       "\n",
       "                                                                    \\\n",
       "Year                              2003          2004          2005   \n",
       "Country                                                              \n",
       "Chile                     7.564346e+10  9.921039e+10  1.229650e+11   \n",
       "China                     1.660290e+12  1.955350e+12  2.285970e+12   \n",
       "Germany                   2.505730e+12  2.819250e+12  2.861410e+12   \n",
       "Mexico                    7.132840e+11  7.702680e+11  8.663460e+11   \n",
       "United States of America  1.150000e+13  1.230000e+13  1.310000e+13   \n",
       "Zimbabwe                  5.727592e+09  5.805598e+09  5.755215e+09   \n",
       "\n",
       "                                                                    \\\n",
       "Year                              2006          2007          2008   \n",
       "Country                                                              \n",
       "Chile                     1.547880e+11  1.736060e+11  1.796380e+11   \n",
       "China                     2.752130e+12  3.552180e+12  4.598210e+12   \n",
       "Germany                   3.002450e+12  3.439950e+12  3.752370e+12   \n",
       "Mexico                    9.652810e+11  1.043470e+12  1.101280e+12   \n",
       "United States of America  1.390000e+13  1.450000e+13  1.470000e+13   \n",
       "Zimbabwe                  5.443896e+09  5.291950e+09  4.415703e+09   \n",
       "\n",
       "                                                                    \\\n",
       "Year                              2009          2010          2011   \n",
       "Country                                                              \n",
       "Chile                     1.723890e+11  2.185380e+11  2.522520e+11   \n",
       "China                     5.109950e+12  6.100620e+12  7.572550e+12   \n",
       "Germany                   3.418010e+12  3.417090e+12  3.757700e+12   \n",
       "Mexico                    8.949490e+11  1.051130e+12  1.171190e+12   \n",
       "United States of America  1.440000e+13  1.500000e+13  1.550000e+13   \n",
       "Zimbabwe                  8.621574e+09  1.014186e+10  1.209845e+10   \n",
       "\n",
       "                                                                    \\\n",
       "Year                              2012          2013          2014   \n",
       "Country                                                              \n",
       "Chile                     2.671220e+11  2.783840e+11  2.609900e+11   \n",
       "China                     8.560550e+12  9.607220e+12  1.048240e+13   \n",
       "Germany                   3.543980e+12  3.752510e+12  3.890610e+12   \n",
       "Mexico                    1.186600e+12  1.261980e+12  1.298460e+12   \n",
       "United States of America  1.620000e+13  1.670000e+13  1.740000e+13   \n",
       "Zimbabwe                  1.424249e+10  1.545177e+10  1.589105e+10   \n",
       "\n",
       "                                        \n",
       "Year                              2015  \n",
       "Country                                 \n",
       "Chile                     2.425180e+11  \n",
       "China                     1.106470e+13  \n",
       "Germany                   3.375610e+12  \n",
       "Mexico                    1.152260e+12  \n",
       "United States of America  1.810000e+13  \n",
       "Zimbabwe                  1.630467e+10  "
      ]
     },
     "execution_count": 38,
     "metadata": {},
     "output_type": "execute_result"
    }
   ],
   "source": [
    "GDY_byYear = pd.pivot(data, index=['Country'], columns=['Year'], values=['GDP'])\n",
    "GDY_byYear"
   ]
  },
  {
   "cell_type": "markdown",
   "metadata": {},
   "source": [
    "<h2>Exploring the Data using Visualization</h2>\n",
    "<hr>\n",
    "Exploring the data in table form is helpful, but using visualization is even better. <br>\n",
    "Firstly, by using each country's life expectancy mean, we can see which country has the average highest and lowest life expectancy out of the others."
   ]
  },
  {
   "cell_type": "code",
   "execution_count": 30,
   "metadata": {},
   "outputs": [
    {
     "data": {
      "image/png": "[encoded data removed]",
      "text/plain": [
       "<Figure size 648x648 with 1 Axes>"
      ]
     },
     "metadata": {
      "needs_background": "light"
     },
     "output_type": "display_data"
    }
   ],
   "source": [
    "plt.figure(figsize=(9,9))\n",
    "LifeExp = sns.barplot(y=YLifeExp_sorted['Country'], x=YLifeExp_sorted.YLifeExp, orient='h')\n",
    "LifeExp.set_xlabel('Life Expectancy at Birth (Years)')\n",
    "LifeExp.bar_label(LifeExp.containers[0])\n",
    "plt.show()"
   ]
  },
  {
   "cell_type": "markdown",
   "metadata": {},
   "source": [
    "According to the visuals above, the country with the highest life expectancy goes to Germany with the average life expectancy of 79.6 years old and the lowest goes to Zimbabwe with 50.09 years old. Excluding Zimbabwe, the other countries has the average life expectancy of 70 years old. Now let's look at the GDP depiction below."
   ]
  },
  {
   "cell_type": "code",
   "execution_count": 31,
   "metadata": {},
   "outputs": [
    {
     "data": {
      "image/png": "[encoded data removed]",
      "text/plain": [
       "<Figure size 648x648 with 1 Axes>"
      ]
     },
     "metadata": {
      "needs_background": "light"
     },
     "output_type": "display_data"
    }
   ],
   "source": [
    "plt.figure(figsize=(9,9))\n",
    "GDP = sns.barplot(y=GDP_sorted['Country'], x=GDP_sorted.GDP, orient='h')\n",
    "GDP.bar_label(GDP.containers[0])\n",
    "plt.show()"
   ]
  },
  {
   "cell_type": "markdown",
   "metadata": {},
   "source": [
    "The highest average GDP goes to Unites States of America and the lowest goes to Zimbabwe. Next, let's explore whether both indicators experience growth over the years."
   ]
  },
  {
   "cell_type": "code",
   "execution_count": 32,
   "metadata": {},
   "outputs": [
    {
     "data": {
      "image/png": "[encoded data removed]",
      "text/plain": [
       "<Figure size 648x648 with 1 Axes>"
      ]
     },
     "metadata": {
      "needs_background": "light"
     },
     "output_type": "display_data"
    }
   ],
   "source": [
    "plt.figure(figsize=(9,9))\n",
    "sns.lineplot(x=data.Year, y=data.GDP, hue=data.Country, style=data.Country, markers=True)\n",
    "plt.show()"
   ]
  },
  {
   "cell_type": "markdown",
   "metadata": {},
   "source": [
    "As seen above, both USA and China experience massive growth in their GDP, while Germany, Mexico, Chile and Zimbabwe either grow a little and shrink or stagnated."
   ]
  },
  {
   "cell_type": "code",
   "execution_count": 33,
   "metadata": {},
   "outputs": [
    {
     "data": {
      "image/png": "[encoded data removed]",
      "text/plain": [
       "<Figure size 648x648 with 1 Axes>"
      ]
     },
     "metadata": {
      "needs_background": "light"
     },
     "output_type": "display_data"
    }
   ],
   "source": [
    "plt.figure(figsize=(9,9))\n",
    "LifeExp = sns.lineplot(x=data.Year, y=data.YLifeExp, hue=data.Country, style=data.Country, markers=True)\n",
    "LifeExp.set_ylabel(\"Life Expectancy at Birth (Years)\")\n",
    "plt.show()"
   ]
  },
  {
   "cell_type": "markdown",
   "metadata": {},
   "source": [
    "As shown above, every country's life expectancy grows stably. Zimbabwe's life expectancy dropped until 2004, but has significantly grown overtime. After only checking both indicators, one must wonder if they have any correlation with each other. Now let's explore their correlation possibility."
   ]
  },
  {
   "cell_type": "code",
   "execution_count": 69,
   "metadata": {},
   "outputs": [
    {
     "data": {
      "image/png": "[encoded data removed]",
      "text/plain": [
       "<Figure size 1024.75x576 with 6 Axes>"
      ]
     },
     "metadata": {
      "needs_background": "light"
     },
     "output_type": "display_data"
    }
   ],
   "source": [
    "GDP_LifeExp = sns.FacetGrid(data, col=\"Country\", hue=\"Country\", height=4, col_wrap=3, sharey=False,\n",
    "                           sharex=False)\n",
    "GDP_LifeExp = (GDP_LifeExp.map_dataframe(sns.scatterplot, x=\"YLifeExp\", y=\"GDP\").add_legend()\n",
    "               .set_axis_labels(\"Life Expectancy at Birth (Years)\", 'GDP'))"
   ]
  },
  {
   "cell_type": "markdown",
   "metadata": {},
   "source": [
    "As illustrated above, each country's GDP affects their life expectancy. Even with Zimbabwe whose GDP managed to shrink, when they grew again, it increased their life expectancy."
   ]
  },
  {
   "cell_type": "markdown",
   "metadata": {},
   "source": [
    "<h2>Conclusion</h2>\n",
    "<hr>\n",
    "After completing the steps above, here are some takeaways from the data analysis:\n",
    "<ul>\n",
    "    <li>United States of America has the highest average GDP.</li>\n",
    "    <li>Germany has the highest life expectancy at birth.</li>\n",
    "    <li>United States of America and China's GDP grows significantly, while the others either\n",
    "        stagnated or just unstable.</li>\n",
    "    <li>Excluding Zimbabwe, every other country's life expectancy steadily grows.</li>\n",
    "    <li>Zimbabwe's life expectancy went down, but then significantly grows.</li>\n",
    "    <li>GDP positively affects life expectancy.</li>\n",
    "</ul>"
   ]
  }
 ],
 "metadata": {
  "kernelspec": {
   "display_name": "Python 3",
   "language": "python",
   "name": "python3"
  },
  "language_info": {
   "codemirror_mode": {
    "name": "ipython",
    "version": 3
   },
   "file_extension": ".py",
   "mimetype": "text/x-python",
   "name": "python",
   "nbconvert_exporter": "python",
   "pygments_lexer": "ipython3",
   "version": "3.8.3"
  }
 },
 "nbformat": 4,
 "nbformat_minor": 4
}
